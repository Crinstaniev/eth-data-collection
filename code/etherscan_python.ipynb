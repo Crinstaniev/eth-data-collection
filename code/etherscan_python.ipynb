{
  "cells": [
    {
      "cell_type": "markdown",
      "source": [
        "Configuration for methods can be found in <https://github.com/pcko1/etherscan-python/tree/master/logs/standard>"
      ],
      "metadata": {
        "id": "jubGzMeb8sv2"
      }
    },
    {
      "cell_type": "markdown",
      "metadata": {
        "id": "pGHiPRHbUZ7P"
      },
      "source": [
        "# Part I Set-up "
      ]
    },
    {
      "cell_type": "code",
      "source": [
        "!pip install -U kaleido #restart runtime after install"
      ],
      "metadata": {
        "colab": {
          "base_uri": "https://localhost:8080/"
        },
        "id": "SKE-xaU-_RnE",
        "outputId": "cd79d631-db39-4ac9-c608-89f02e17bbf0"
      },
      "execution_count": 1,
      "outputs": [
        {
          "output_type": "stream",
          "name": "stdout",
          "text": [
            "Looking in indexes: https://pypi.org/simple, https://us-python.pkg.dev/colab-wheels/public/simple/\n",
            "Requirement already satisfied: kaleido in /usr/local/lib/python3.8/dist-packages (0.2.1)\n"
          ]
        }
      ]
    },
    {
      "cell_type": "code",
      "execution_count": 2,
      "metadata": {
        "id": "9uqvhp1zUZ7R",
        "outputId": "94c16989-9008-4c1f-f6e9-bbcaf1b591f2",
        "colab": {
          "base_uri": "https://localhost:8080/"
        }
      },
      "outputs": [
        {
          "output_type": "stream",
          "name": "stdout",
          "text": [
            "Looking in indexes: https://pypi.org/simple, https://us-python.pkg.dev/colab-wheels/public/simple/\n",
            "Requirement already satisfied: etherscan-python in /usr/local/lib/python3.8/dist-packages (2.1.0)\n",
            "Requirement already satisfied: requests in /usr/local/lib/python3.8/dist-packages (from etherscan-python) (2.25.1)\n",
            "Requirement already satisfied: chardet<5,>=3.0.2 in /usr/local/lib/python3.8/dist-packages (from requests->etherscan-python) (4.0.0)\n",
            "Requirement already satisfied: certifi>=2017.4.17 in /usr/local/lib/python3.8/dist-packages (from requests->etherscan-python) (2022.12.7)\n",
            "Requirement already satisfied: urllib3<1.27,>=1.21.1 in /usr/local/lib/python3.8/dist-packages (from requests->etherscan-python) (1.26.14)\n",
            "Requirement already satisfied: idna<3,>=2.5 in /usr/local/lib/python3.8/dist-packages (from requests->etherscan-python) (2.10)\n"
          ]
        }
      ],
      "source": [
        "# setup\n",
        "!pip install etherscan-python"
      ]
    },
    {
      "cell_type": "code",
      "execution_count": 3,
      "metadata": {
        "id": "czlADbbGUZ7S"
      },
      "outputs": [],
      "source": [
        "from etherscan import Etherscan\n",
        "import pandas as pd\n",
        "import matplotlib.pyplot as plt\n",
        "from tqdm import tqdm\n",
        "%matplotlib inline\n"
      ]
    },
    {
      "cell_type": "code",
      "execution_count": 4,
      "metadata": {
        "id": "5oiHeXiEUZ7T"
      },
      "outputs": [],
      "source": [
        "eth = Etherscan(api_key='7WZIGUZZM4M3N32RCWQ8EUISBUQ8DX4Y5D')"
      ]
    },
    {
      "cell_type": "markdown",
      "source": [
        "# Part II Query Ethereum Blockchain Block Data"
      ],
      "metadata": {
        "id": "AerPWxHe8vxv"
      }
    },
    {
      "cell_type": "code",
      "execution_count": 5,
      "metadata": {
        "id": "_QfUkMlmUZ7T",
        "outputId": "01a9a453-0b84-4764-fef8-3bb06af8fa18",
        "colab": {
          "base_uri": "https://localhost:8080/"
        }
      },
      "outputs": [
        {
          "output_type": "stream",
          "name": "stderr",
          "text": [
            "100%|██████████| 10/10 [00:02<00:00,  3.55it/s]\n"
          ]
        }
      ],
      "source": [
        "# example of getting the block reward given a block number range\n",
        "rewards = [eth.get_block_reward_by_block_number(\n",
        "    x) for x in tqdm(range(15537348, 15537358))]\n"
      ]
    },
    {
      "cell_type": "code",
      "source": [
        "rewards"
      ],
      "metadata": {
        "colab": {
          "base_uri": "https://localhost:8080/"
        },
        "id": "Xilo0dEA9ReH",
        "outputId": "f2bbe115-59d2-43f4-ab8b-7273e67bbdca"
      },
      "execution_count": 6,
      "outputs": [
        {
          "output_type": "execute_result",
          "data": {
            "text/plain": [
              "[{'blockNumber': '15537348',\n",
              "  'timeStamp': '1663223611',\n",
              "  'blockMiner': '0x00192fb10df37c9fb26829eb2cc623cd1bf599e8',\n",
              "  'blockReward': '2059154521350073307',\n",
              "  'uncles': [],\n",
              "  'uncleInclusionReward': '0'},\n",
              " {'blockNumber': '15537349',\n",
              "  'timeStamp': '1663223637',\n",
              "  'blockMiner': '0x8b4de256180cfec54c436a470af50f9ee2813dbb',\n",
              "  'blockReward': '2077715070918086465',\n",
              "  'uncles': [],\n",
              "  'uncleInclusionReward': '0'},\n",
              " {'blockNumber': '15537350',\n",
              "  'timeStamp': '1663223650',\n",
              "  'blockMiner': '0x829bd824b016326a401d083b33d092293333a830',\n",
              "  'blockReward': '2049471173923824444',\n",
              "  'uncles': [],\n",
              "  'uncleInclusionReward': '0'},\n",
              " {'blockNumber': '15537351',\n",
              "  'timeStamp': '1663223655',\n",
              "  'blockMiner': '0x829bd824b016326a401d083b33d092293333a830',\n",
              "  'blockReward': '2064437400762560040',\n",
              "  'uncles': [],\n",
              "  'uncleInclusionReward': '0'},\n",
              " {'blockNumber': '15537352',\n",
              "  'timeStamp': '1663223681',\n",
              "  'blockMiner': '0xea674fdde714fd979de3edf0f56aa9716b898ec8',\n",
              "  'blockReward': '2041749763719129189',\n",
              "  'uncles': [],\n",
              "  'uncleInclusionReward': '0'},\n",
              " {'blockNumber': '15537353',\n",
              "  'timeStamp': '1663223696',\n",
              "  'blockMiner': '0x270054ea81f2ca1fbc3be876f998ce2b1c869d5e',\n",
              "  'blockReward': '2001183822700000000',\n",
              "  'uncles': [],\n",
              "  'uncleInclusionReward': '0'},\n",
              " {'blockNumber': '15537354',\n",
              "  'timeStamp': '1663223704',\n",
              "  'blockMiner': '0x7f101fe45e6649a6fb8f3f8b43ed03d353f2b90c',\n",
              "  'blockReward': '2052489674374571551',\n",
              "  'uncles': [],\n",
              "  'uncleInclusionReward': '0'},\n",
              " {'blockNumber': '15537355',\n",
              "  'timeStamp': '1663223717',\n",
              "  'blockMiner': '0xea674fdde714fd979de3edf0f56aa9716b898ec8',\n",
              "  'blockReward': '2023547443411661840',\n",
              "  'uncles': [],\n",
              "  'uncleInclusionReward': '0'},\n",
              " {'blockNumber': '15537356',\n",
              "  'timeStamp': '1663223721',\n",
              "  'blockMiner': '0x00192fb10df37c9fb26829eb2cc623cd1bf599e8',\n",
              "  'blockReward': '2002260955183039152',\n",
              "  'uncles': [],\n",
              "  'uncleInclusionReward': '0'},\n",
              " {'blockNumber': '15537357',\n",
              "  'timeStamp': '1663223722',\n",
              "  'blockMiner': '0x7f101fe45e6649a6fb8f3f8b43ed03d353f2b90c',\n",
              "  'blockReward': '2048889556335886206',\n",
              "  'uncles': [],\n",
              "  'uncleInclusionReward': '0'}]"
            ]
          },
          "metadata": {},
          "execution_count": 6
        }
      ]
    },
    {
      "cell_type": "code",
      "source": [
        "df_rewards =pd.DataFrame(rewards)\n",
        "df_rewards"
      ],
      "metadata": {
        "colab": {
          "base_uri": "https://localhost:8080/",
          "height": 363
        },
        "id": "85NnrwEk9UiG",
        "outputId": "a97dc56a-e2f1-4a64-dc62-b075b2ce1abd"
      },
      "execution_count": 7,
      "outputs": [
        {
          "output_type": "execute_result",
          "data": {
            "text/plain": [
              "  blockNumber   timeStamp                                  blockMiner  \\\n",
              "0    15537348  1663223611  0x00192fb10df37c9fb26829eb2cc623cd1bf599e8   \n",
              "1    15537349  1663223637  0x8b4de256180cfec54c436a470af50f9ee2813dbb   \n",
              "2    15537350  1663223650  0x829bd824b016326a401d083b33d092293333a830   \n",
              "3    15537351  1663223655  0x829bd824b016326a401d083b33d092293333a830   \n",
              "4    15537352  1663223681  0xea674fdde714fd979de3edf0f56aa9716b898ec8   \n",
              "5    15537353  1663223696  0x270054ea81f2ca1fbc3be876f998ce2b1c869d5e   \n",
              "6    15537354  1663223704  0x7f101fe45e6649a6fb8f3f8b43ed03d353f2b90c   \n",
              "7    15537355  1663223717  0xea674fdde714fd979de3edf0f56aa9716b898ec8   \n",
              "8    15537356  1663223721  0x00192fb10df37c9fb26829eb2cc623cd1bf599e8   \n",
              "9    15537357  1663223722  0x7f101fe45e6649a6fb8f3f8b43ed03d353f2b90c   \n",
              "\n",
              "           blockReward uncles uncleInclusionReward  \n",
              "0  2059154521350073307     []                    0  \n",
              "1  2077715070918086465     []                    0  \n",
              "2  2049471173923824444     []                    0  \n",
              "3  2064437400762560040     []                    0  \n",
              "4  2041749763719129189     []                    0  \n",
              "5  2001183822700000000     []                    0  \n",
              "6  2052489674374571551     []                    0  \n",
              "7  2023547443411661840     []                    0  \n",
              "8  2002260955183039152     []                    0  \n",
              "9  2048889556335886206     []                    0  "
            ],
            "text/html": [
              "\n",
              "  <div id=\"df-1cda5b1e-f3a0-4ad3-b573-92a230d47b24\">\n",
              "    <div class=\"colab-df-container\">\n",
              "      <div>\n",
              "<style scoped>\n",
              "    .dataframe tbody tr th:only-of-type {\n",
              "        vertical-align: middle;\n",
              "    }\n",
              "\n",
              "    .dataframe tbody tr th {\n",
              "        vertical-align: top;\n",
              "    }\n",
              "\n",
              "    .dataframe thead th {\n",
              "        text-align: right;\n",
              "    }\n",
              "</style>\n",
              "<table border=\"1\" class=\"dataframe\">\n",
              "  <thead>\n",
              "    <tr style=\"text-align: right;\">\n",
              "      <th></th>\n",
              "      <th>blockNumber</th>\n",
              "      <th>timeStamp</th>\n",
              "      <th>blockMiner</th>\n",
              "      <th>blockReward</th>\n",
              "      <th>uncles</th>\n",
              "      <th>uncleInclusionReward</th>\n",
              "    </tr>\n",
              "  </thead>\n",
              "  <tbody>\n",
              "    <tr>\n",
              "      <th>0</th>\n",
              "      <td>15537348</td>\n",
              "      <td>1663223611</td>\n",
              "      <td>0x00192fb10df37c9fb26829eb2cc623cd1bf599e8</td>\n",
              "      <td>2059154521350073307</td>\n",
              "      <td>[]</td>\n",
              "      <td>0</td>\n",
              "    </tr>\n",
              "    <tr>\n",
              "      <th>1</th>\n",
              "      <td>15537349</td>\n",
              "      <td>1663223637</td>\n",
              "      <td>0x8b4de256180cfec54c436a470af50f9ee2813dbb</td>\n",
              "      <td>2077715070918086465</td>\n",
              "      <td>[]</td>\n",
              "      <td>0</td>\n",
              "    </tr>\n",
              "    <tr>\n",
              "      <th>2</th>\n",
              "      <td>15537350</td>\n",
              "      <td>1663223650</td>\n",
              "      <td>0x829bd824b016326a401d083b33d092293333a830</td>\n",
              "      <td>2049471173923824444</td>\n",
              "      <td>[]</td>\n",
              "      <td>0</td>\n",
              "    </tr>\n",
              "    <tr>\n",
              "      <th>3</th>\n",
              "      <td>15537351</td>\n",
              "      <td>1663223655</td>\n",
              "      <td>0x829bd824b016326a401d083b33d092293333a830</td>\n",
              "      <td>2064437400762560040</td>\n",
              "      <td>[]</td>\n",
              "      <td>0</td>\n",
              "    </tr>\n",
              "    <tr>\n",
              "      <th>4</th>\n",
              "      <td>15537352</td>\n",
              "      <td>1663223681</td>\n",
              "      <td>0xea674fdde714fd979de3edf0f56aa9716b898ec8</td>\n",
              "      <td>2041749763719129189</td>\n",
              "      <td>[]</td>\n",
              "      <td>0</td>\n",
              "    </tr>\n",
              "    <tr>\n",
              "      <th>5</th>\n",
              "      <td>15537353</td>\n",
              "      <td>1663223696</td>\n",
              "      <td>0x270054ea81f2ca1fbc3be876f998ce2b1c869d5e</td>\n",
              "      <td>2001183822700000000</td>\n",
              "      <td>[]</td>\n",
              "      <td>0</td>\n",
              "    </tr>\n",
              "    <tr>\n",
              "      <th>6</th>\n",
              "      <td>15537354</td>\n",
              "      <td>1663223704</td>\n",
              "      <td>0x7f101fe45e6649a6fb8f3f8b43ed03d353f2b90c</td>\n",
              "      <td>2052489674374571551</td>\n",
              "      <td>[]</td>\n",
              "      <td>0</td>\n",
              "    </tr>\n",
              "    <tr>\n",
              "      <th>7</th>\n",
              "      <td>15537355</td>\n",
              "      <td>1663223717</td>\n",
              "      <td>0xea674fdde714fd979de3edf0f56aa9716b898ec8</td>\n",
              "      <td>2023547443411661840</td>\n",
              "      <td>[]</td>\n",
              "      <td>0</td>\n",
              "    </tr>\n",
              "    <tr>\n",
              "      <th>8</th>\n",
              "      <td>15537356</td>\n",
              "      <td>1663223721</td>\n",
              "      <td>0x00192fb10df37c9fb26829eb2cc623cd1bf599e8</td>\n",
              "      <td>2002260955183039152</td>\n",
              "      <td>[]</td>\n",
              "      <td>0</td>\n",
              "    </tr>\n",
              "    <tr>\n",
              "      <th>9</th>\n",
              "      <td>15537357</td>\n",
              "      <td>1663223722</td>\n",
              "      <td>0x7f101fe45e6649a6fb8f3f8b43ed03d353f2b90c</td>\n",
              "      <td>2048889556335886206</td>\n",
              "      <td>[]</td>\n",
              "      <td>0</td>\n",
              "    </tr>\n",
              "  </tbody>\n",
              "</table>\n",
              "</div>\n",
              "      <button class=\"colab-df-convert\" onclick=\"convertToInteractive('df-1cda5b1e-f3a0-4ad3-b573-92a230d47b24')\"\n",
              "              title=\"Convert this dataframe to an interactive table.\"\n",
              "              style=\"display:none;\">\n",
              "        \n",
              "  <svg xmlns=\"http://www.w3.org/2000/svg\" height=\"24px\"viewBox=\"0 0 24 24\"\n",
              "       width=\"24px\">\n",
              "    <path d=\"M0 0h24v24H0V0z\" fill=\"none\"/>\n",
              "    <path d=\"M18.56 5.44l.94 2.06.94-2.06 2.06-.94-2.06-.94-.94-2.06-.94 2.06-2.06.94zm-11 1L8.5 8.5l.94-2.06 2.06-.94-2.06-.94L8.5 2.5l-.94 2.06-2.06.94zm10 10l.94 2.06.94-2.06 2.06-.94-2.06-.94-.94-2.06-.94 2.06-2.06.94z\"/><path d=\"M17.41 7.96l-1.37-1.37c-.4-.4-.92-.59-1.43-.59-.52 0-1.04.2-1.43.59L10.3 9.45l-7.72 7.72c-.78.78-.78 2.05 0 2.83L4 21.41c.39.39.9.59 1.41.59.51 0 1.02-.2 1.41-.59l7.78-7.78 2.81-2.81c.8-.78.8-2.07 0-2.86zM5.41 20L4 18.59l7.72-7.72 1.47 1.35L5.41 20z\"/>\n",
              "  </svg>\n",
              "      </button>\n",
              "      \n",
              "  <style>\n",
              "    .colab-df-container {\n",
              "      display:flex;\n",
              "      flex-wrap:wrap;\n",
              "      gap: 12px;\n",
              "    }\n",
              "\n",
              "    .colab-df-convert {\n",
              "      background-color: #E8F0FE;\n",
              "      border: none;\n",
              "      border-radius: 50%;\n",
              "      cursor: pointer;\n",
              "      display: none;\n",
              "      fill: #1967D2;\n",
              "      height: 32px;\n",
              "      padding: 0 0 0 0;\n",
              "      width: 32px;\n",
              "    }\n",
              "\n",
              "    .colab-df-convert:hover {\n",
              "      background-color: #E2EBFA;\n",
              "      box-shadow: 0px 1px 2px rgba(60, 64, 67, 0.3), 0px 1px 3px 1px rgba(60, 64, 67, 0.15);\n",
              "      fill: #174EA6;\n",
              "    }\n",
              "\n",
              "    [theme=dark] .colab-df-convert {\n",
              "      background-color: #3B4455;\n",
              "      fill: #D2E3FC;\n",
              "    }\n",
              "\n",
              "    [theme=dark] .colab-df-convert:hover {\n",
              "      background-color: #434B5C;\n",
              "      box-shadow: 0px 1px 3px 1px rgba(0, 0, 0, 0.15);\n",
              "      filter: drop-shadow(0px 1px 2px rgba(0, 0, 0, 0.3));\n",
              "      fill: #FFFFFF;\n",
              "    }\n",
              "  </style>\n",
              "\n",
              "      <script>\n",
              "        const buttonEl =\n",
              "          document.querySelector('#df-1cda5b1e-f3a0-4ad3-b573-92a230d47b24 button.colab-df-convert');\n",
              "        buttonEl.style.display =\n",
              "          google.colab.kernel.accessAllowed ? 'block' : 'none';\n",
              "\n",
              "        async function convertToInteractive(key) {\n",
              "          const element = document.querySelector('#df-1cda5b1e-f3a0-4ad3-b573-92a230d47b24');\n",
              "          const dataTable =\n",
              "            await google.colab.kernel.invokeFunction('convertToInteractive',\n",
              "                                                     [key], {});\n",
              "          if (!dataTable) return;\n",
              "\n",
              "          const docLinkHtml = 'Like what you see? Visit the ' +\n",
              "            '<a target=\"_blank\" href=https://colab.research.google.com/notebooks/data_table.ipynb>data table notebook</a>'\n",
              "            + ' to learn more about interactive tables.';\n",
              "          element.innerHTML = '';\n",
              "          dataTable['output_type'] = 'display_data';\n",
              "          await google.colab.output.renderOutput(dataTable, element);\n",
              "          const docLink = document.createElement('div');\n",
              "          docLink.innerHTML = docLinkHtml;\n",
              "          element.appendChild(docLink);\n",
              "        }\n",
              "      </script>\n",
              "    </div>\n",
              "  </div>\n",
              "  "
            ]
          },
          "metadata": {},
          "execution_count": 7
        }
      ]
    },
    {
      "cell_type": "code",
      "source": [
        "df_rewards.to_csv('etherscan_rewards.csv')"
      ],
      "metadata": {
        "id": "hYMBbCg5AEdA"
      },
      "execution_count": 12,
      "outputs": []
    },
    {
      "cell_type": "markdown",
      "source": [
        "# Part III Process Data and Data Visualization"
      ],
      "metadata": {
        "id": "Ey62bFmH9sCA"
      }
    },
    {
      "cell_type": "code",
      "execution_count": 8,
      "metadata": {
        "id": "7CabHGj4UZ7T",
        "outputId": "78c5b95f-5b13-48ba-a0e3-468895f4df8c",
        "colab": {
          "base_uri": "https://localhost:8080/"
        }
      },
      "outputs": [
        {
          "output_type": "stream",
          "name": "stdout",
          "text": [
            "<class 'pandas.core.frame.DataFrame'>\n",
            "RangeIndex: 10 entries, 0 to 9\n",
            "Data columns (total 6 columns):\n",
            " #   Column                Non-Null Count  Dtype \n",
            "---  ------                --------------  ----- \n",
            " 0   blockNumber           10 non-null     object\n",
            " 1   timeStamp             10 non-null     object\n",
            " 2   blockMiner            10 non-null     object\n",
            " 3   blockReward           10 non-null     object\n",
            " 4   uncles                10 non-null     object\n",
            " 5   uncleInclusionReward  10 non-null     object\n",
            "dtypes: object(6)\n",
            "memory usage: 608.0+ bytes\n"
          ]
        }
      ],
      "source": [
        "# convert numercial values\n",
        "df_rewards.info()"
      ]
    },
    {
      "cell_type": "code",
      "execution_count": 9,
      "metadata": {
        "id": "-Sl6fsjtUZ7U"
      },
      "outputs": [],
      "source": [
        "# process data for visualization\n",
        "df_rewards['blockNumber'] = df_rewards['blockNumber'].astype(int)\n",
        "df_rewards['blockReward'] = df_rewards['blockReward'].astype(float)\n",
        "df_rewards['uncleInclusionReward'] = df_rewards['uncleInclusionReward'].astype(float)\n"
      ]
    },
    {
      "cell_type": "code",
      "execution_count": 10,
      "metadata": {
        "id": "Iw6OONfvUZ7U",
        "outputId": "774aaca8-0f14-40f4-e538-2c4f101b2e25",
        "colab": {
          "base_uri": "https://localhost:8080/",
          "height": 0
        }
      },
      "outputs": [
        {
          "output_type": "display_data",
          "data": {
            "text/html": [
              "<html>\n",
              "<head><meta charset=\"utf-8\" /></head>\n",
              "<body>\n",
              "    <div>            <script src=\"https://cdnjs.cloudflare.com/ajax/libs/mathjax/2.7.5/MathJax.js?config=TeX-AMS-MML_SVG\"></script><script type=\"text/javascript\">if (window.MathJax) {MathJax.Hub.Config({SVG: {font: \"STIX-Web\"}});}</script>                <script type=\"text/javascript\">window.PlotlyConfig = {MathJaxConfig: 'local'};</script>\n",
              "        <script src=\"https://cdn.plot.ly/plotly-2.8.3.min.js\"></script>                <div id=\"a5f94271-6f10-4609-927f-7d2d3a042f78\" class=\"plotly-graph-div\" style=\"height:900px; width:900px;\"></div>            <script type=\"text/javascript\">                                    window.PLOTLYENV=window.PLOTLYENV || {};                                    if (document.getElementById(\"a5f94271-6f10-4609-927f-7d2d3a042f78\")) {                    Plotly.newPlot(                        \"a5f94271-6f10-4609-927f-7d2d3a042f78\",                        [{\"x\":[15537348,15537349,15537350,15537351,15537352,15537353,15537354,15537355,15537356,15537357],\"y\":[2.0591545213500733e+18,2.0777150709180864e+18,2.0494711739238244e+18,2.06443740076256e+18,2.041749763719129e+18,2.0011838227e+18,2.0524896743745715e+18,2.0235474434116618e+18,2.0022609551830392e+18,2.048889556335886e+18],\"type\":\"scatter\",\"xaxis\":\"x\",\"yaxis\":\"y\"},{\"x\":[15537348,15537349,15537350,15537351,15537352,15537353,15537354,15537355,15537356,15537357],\"y\":[0.0,0.0,0.0,0.0,0.0,0.0,0.0,0.0,0.0,0.0],\"type\":\"scatter\",\"xaxis\":\"x2\",\"yaxis\":\"y2\"}],                        {\"template\":{\"data\":{\"bar\":[{\"error_x\":{\"color\":\"#2a3f5f\"},\"error_y\":{\"color\":\"#2a3f5f\"},\"marker\":{\"line\":{\"color\":\"#E5ECF6\",\"width\":0.5},\"pattern\":{\"fillmode\":\"overlay\",\"size\":10,\"solidity\":0.2}},\"type\":\"bar\"}],\"barpolar\":[{\"marker\":{\"line\":{\"color\":\"#E5ECF6\",\"width\":0.5},\"pattern\":{\"fillmode\":\"overlay\",\"size\":10,\"solidity\":0.2}},\"type\":\"barpolar\"}],\"carpet\":[{\"aaxis\":{\"endlinecolor\":\"#2a3f5f\",\"gridcolor\":\"white\",\"linecolor\":\"white\",\"minorgridcolor\":\"white\",\"startlinecolor\":\"#2a3f5f\"},\"baxis\":{\"endlinecolor\":\"#2a3f5f\",\"gridcolor\":\"white\",\"linecolor\":\"white\",\"minorgridcolor\":\"white\",\"startlinecolor\":\"#2a3f5f\"},\"type\":\"carpet\"}],\"choropleth\":[{\"colorbar\":{\"outlinewidth\":0,\"ticks\":\"\"},\"type\":\"choropleth\"}],\"contour\":[{\"colorbar\":{\"outlinewidth\":0,\"ticks\":\"\"},\"colorscale\":[[0.0,\"#0d0887\"],[0.1111111111111111,\"#46039f\"],[0.2222222222222222,\"#7201a8\"],[0.3333333333333333,\"#9c179e\"],[0.4444444444444444,\"#bd3786\"],[0.5555555555555556,\"#d8576b\"],[0.6666666666666666,\"#ed7953\"],[0.7777777777777778,\"#fb9f3a\"],[0.8888888888888888,\"#fdca26\"],[1.0,\"#f0f921\"]],\"type\":\"contour\"}],\"contourcarpet\":[{\"colorbar\":{\"outlinewidth\":0,\"ticks\":\"\"},\"type\":\"contourcarpet\"}],\"heatmap\":[{\"colorbar\":{\"outlinewidth\":0,\"ticks\":\"\"},\"colorscale\":[[0.0,\"#0d0887\"],[0.1111111111111111,\"#46039f\"],[0.2222222222222222,\"#7201a8\"],[0.3333333333333333,\"#9c179e\"],[0.4444444444444444,\"#bd3786\"],[0.5555555555555556,\"#d8576b\"],[0.6666666666666666,\"#ed7953\"],[0.7777777777777778,\"#fb9f3a\"],[0.8888888888888888,\"#fdca26\"],[1.0,\"#f0f921\"]],\"type\":\"heatmap\"}],\"heatmapgl\":[{\"colorbar\":{\"outlinewidth\":0,\"ticks\":\"\"},\"colorscale\":[[0.0,\"#0d0887\"],[0.1111111111111111,\"#46039f\"],[0.2222222222222222,\"#7201a8\"],[0.3333333333333333,\"#9c179e\"],[0.4444444444444444,\"#bd3786\"],[0.5555555555555556,\"#d8576b\"],[0.6666666666666666,\"#ed7953\"],[0.7777777777777778,\"#fb9f3a\"],[0.8888888888888888,\"#fdca26\"],[1.0,\"#f0f921\"]],\"type\":\"heatmapgl\"}],\"histogram\":[{\"marker\":{\"pattern\":{\"fillmode\":\"overlay\",\"size\":10,\"solidity\":0.2}},\"type\":\"histogram\"}],\"histogram2d\":[{\"colorbar\":{\"outlinewidth\":0,\"ticks\":\"\"},\"colorscale\":[[0.0,\"#0d0887\"],[0.1111111111111111,\"#46039f\"],[0.2222222222222222,\"#7201a8\"],[0.3333333333333333,\"#9c179e\"],[0.4444444444444444,\"#bd3786\"],[0.5555555555555556,\"#d8576b\"],[0.6666666666666666,\"#ed7953\"],[0.7777777777777778,\"#fb9f3a\"],[0.8888888888888888,\"#fdca26\"],[1.0,\"#f0f921\"]],\"type\":\"histogram2d\"}],\"histogram2dcontour\":[{\"colorbar\":{\"outlinewidth\":0,\"ticks\":\"\"},\"colorscale\":[[0.0,\"#0d0887\"],[0.1111111111111111,\"#46039f\"],[0.2222222222222222,\"#7201a8\"],[0.3333333333333333,\"#9c179e\"],[0.4444444444444444,\"#bd3786\"],[0.5555555555555556,\"#d8576b\"],[0.6666666666666666,\"#ed7953\"],[0.7777777777777778,\"#fb9f3a\"],[0.8888888888888888,\"#fdca26\"],[1.0,\"#f0f921\"]],\"type\":\"histogram2dcontour\"}],\"mesh3d\":[{\"colorbar\":{\"outlinewidth\":0,\"ticks\":\"\"},\"type\":\"mesh3d\"}],\"parcoords\":[{\"line\":{\"colorbar\":{\"outlinewidth\":0,\"ticks\":\"\"}},\"type\":\"parcoords\"}],\"pie\":[{\"automargin\":true,\"type\":\"pie\"}],\"scatter\":[{\"marker\":{\"colorbar\":{\"outlinewidth\":0,\"ticks\":\"\"}},\"type\":\"scatter\"}],\"scatter3d\":[{\"line\":{\"colorbar\":{\"outlinewidth\":0,\"ticks\":\"\"}},\"marker\":{\"colorbar\":{\"outlinewidth\":0,\"ticks\":\"\"}},\"type\":\"scatter3d\"}],\"scattercarpet\":[{\"marker\":{\"colorbar\":{\"outlinewidth\":0,\"ticks\":\"\"}},\"type\":\"scattercarpet\"}],\"scattergeo\":[{\"marker\":{\"colorbar\":{\"outlinewidth\":0,\"ticks\":\"\"}},\"type\":\"scattergeo\"}],\"scattergl\":[{\"marker\":{\"colorbar\":{\"outlinewidth\":0,\"ticks\":\"\"}},\"type\":\"scattergl\"}],\"scattermapbox\":[{\"marker\":{\"colorbar\":{\"outlinewidth\":0,\"ticks\":\"\"}},\"type\":\"scattermapbox\"}],\"scatterpolar\":[{\"marker\":{\"colorbar\":{\"outlinewidth\":0,\"ticks\":\"\"}},\"type\":\"scatterpolar\"}],\"scatterpolargl\":[{\"marker\":{\"colorbar\":{\"outlinewidth\":0,\"ticks\":\"\"}},\"type\":\"scatterpolargl\"}],\"scatterternary\":[{\"marker\":{\"colorbar\":{\"outlinewidth\":0,\"ticks\":\"\"}},\"type\":\"scatterternary\"}],\"surface\":[{\"colorbar\":{\"outlinewidth\":0,\"ticks\":\"\"},\"colorscale\":[[0.0,\"#0d0887\"],[0.1111111111111111,\"#46039f\"],[0.2222222222222222,\"#7201a8\"],[0.3333333333333333,\"#9c179e\"],[0.4444444444444444,\"#bd3786\"],[0.5555555555555556,\"#d8576b\"],[0.6666666666666666,\"#ed7953\"],[0.7777777777777778,\"#fb9f3a\"],[0.8888888888888888,\"#fdca26\"],[1.0,\"#f0f921\"]],\"type\":\"surface\"}],\"table\":[{\"cells\":{\"fill\":{\"color\":\"#EBF0F8\"},\"line\":{\"color\":\"white\"}},\"header\":{\"fill\":{\"color\":\"#C8D4E3\"},\"line\":{\"color\":\"white\"}},\"type\":\"table\"}]},\"layout\":{\"annotationdefaults\":{\"arrowcolor\":\"#2a3f5f\",\"arrowhead\":0,\"arrowwidth\":1},\"autotypenumbers\":\"strict\",\"coloraxis\":{\"colorbar\":{\"outlinewidth\":0,\"ticks\":\"\"}},\"colorscale\":{\"diverging\":[[0,\"#8e0152\"],[0.1,\"#c51b7d\"],[0.2,\"#de77ae\"],[0.3,\"#f1b6da\"],[0.4,\"#fde0ef\"],[0.5,\"#f7f7f7\"],[0.6,\"#e6f5d0\"],[0.7,\"#b8e186\"],[0.8,\"#7fbc41\"],[0.9,\"#4d9221\"],[1,\"#276419\"]],\"sequential\":[[0.0,\"#0d0887\"],[0.1111111111111111,\"#46039f\"],[0.2222222222222222,\"#7201a8\"],[0.3333333333333333,\"#9c179e\"],[0.4444444444444444,\"#bd3786\"],[0.5555555555555556,\"#d8576b\"],[0.6666666666666666,\"#ed7953\"],[0.7777777777777778,\"#fb9f3a\"],[0.8888888888888888,\"#fdca26\"],[1.0,\"#f0f921\"]],\"sequentialminus\":[[0.0,\"#0d0887\"],[0.1111111111111111,\"#46039f\"],[0.2222222222222222,\"#7201a8\"],[0.3333333333333333,\"#9c179e\"],[0.4444444444444444,\"#bd3786\"],[0.5555555555555556,\"#d8576b\"],[0.6666666666666666,\"#ed7953\"],[0.7777777777777778,\"#fb9f3a\"],[0.8888888888888888,\"#fdca26\"],[1.0,\"#f0f921\"]]},\"colorway\":[\"#636efa\",\"#EF553B\",\"#00cc96\",\"#ab63fa\",\"#FFA15A\",\"#19d3f3\",\"#FF6692\",\"#B6E880\",\"#FF97FF\",\"#FECB52\"],\"font\":{\"color\":\"#2a3f5f\"},\"geo\":{\"bgcolor\":\"white\",\"lakecolor\":\"white\",\"landcolor\":\"#E5ECF6\",\"showlakes\":true,\"showland\":true,\"subunitcolor\":\"white\"},\"hoverlabel\":{\"align\":\"left\"},\"hovermode\":\"closest\",\"mapbox\":{\"style\":\"light\"},\"paper_bgcolor\":\"white\",\"plot_bgcolor\":\"#E5ECF6\",\"polar\":{\"angularaxis\":{\"gridcolor\":\"white\",\"linecolor\":\"white\",\"ticks\":\"\"},\"bgcolor\":\"#E5ECF6\",\"radialaxis\":{\"gridcolor\":\"white\",\"linecolor\":\"white\",\"ticks\":\"\"}},\"scene\":{\"xaxis\":{\"backgroundcolor\":\"#E5ECF6\",\"gridcolor\":\"white\",\"gridwidth\":2,\"linecolor\":\"white\",\"showbackground\":true,\"ticks\":\"\",\"zerolinecolor\":\"white\"},\"yaxis\":{\"backgroundcolor\":\"#E5ECF6\",\"gridcolor\":\"white\",\"gridwidth\":2,\"linecolor\":\"white\",\"showbackground\":true,\"ticks\":\"\",\"zerolinecolor\":\"white\"},\"zaxis\":{\"backgroundcolor\":\"#E5ECF6\",\"gridcolor\":\"white\",\"gridwidth\":2,\"linecolor\":\"white\",\"showbackground\":true,\"ticks\":\"\",\"zerolinecolor\":\"white\"}},\"shapedefaults\":{\"line\":{\"color\":\"#2a3f5f\"}},\"ternary\":{\"aaxis\":{\"gridcolor\":\"white\",\"linecolor\":\"white\",\"ticks\":\"\"},\"baxis\":{\"gridcolor\":\"white\",\"linecolor\":\"white\",\"ticks\":\"\"},\"bgcolor\":\"#E5ECF6\",\"caxis\":{\"gridcolor\":\"white\",\"linecolor\":\"white\",\"ticks\":\"\"}},\"title\":{\"x\":0.05},\"xaxis\":{\"automargin\":true,\"gridcolor\":\"white\",\"linecolor\":\"white\",\"ticks\":\"\",\"title\":{\"standoff\":15},\"zerolinecolor\":\"white\",\"zerolinewidth\":2},\"yaxis\":{\"automargin\":true,\"gridcolor\":\"white\",\"linecolor\":\"white\",\"ticks\":\"\",\"title\":{\"standoff\":15},\"zerolinecolor\":\"white\",\"zerolinewidth\":2}}},\"xaxis\":{\"anchor\":\"y\",\"domain\":[0.0,1.0]},\"yaxis\":{\"anchor\":\"x\",\"domain\":[0.625,1.0]},\"xaxis2\":{\"anchor\":\"y2\",\"domain\":[0.0,1.0]},\"yaxis2\":{\"anchor\":\"x2\",\"domain\":[0.0,0.375]},\"annotations\":[{\"font\":{\"size\":16},\"showarrow\":false,\"text\":\"blockReward\",\"x\":0.5,\"xanchor\":\"center\",\"xref\":\"paper\",\"y\":1.0,\"yanchor\":\"bottom\",\"yref\":\"paper\"},{\"font\":{\"size\":16},\"showarrow\":false,\"text\":\"uncleInclusionReward\",\"x\":0.5,\"xanchor\":\"center\",\"xref\":\"paper\",\"y\":0.375,\"yanchor\":\"bottom\",\"yref\":\"paper\"}],\"title\":{\"text\":\"Ethereum Blockchain Block Reward Data Visualization via Etherscan-python\"},\"height\":900,\"width\":900},                        {\"responsive\": true}                    ).then(function(){\n",
              "                            \n",
              "var gd = document.getElementById('a5f94271-6f10-4609-927f-7d2d3a042f78');\n",
              "var x = new MutationObserver(function (mutations, observer) {{\n",
              "        var display = window.getComputedStyle(gd).display;\n",
              "        if (!display || display === 'none') {{\n",
              "            console.log([gd, 'removed!']);\n",
              "            Plotly.purge(gd);\n",
              "            observer.disconnect();\n",
              "        }}\n",
              "}});\n",
              "\n",
              "// Listen for the removal of the full notebook cells\n",
              "var notebookContainer = gd.closest('#notebook-container');\n",
              "if (notebookContainer) {{\n",
              "    x.observe(notebookContainer, {childList: true});\n",
              "}}\n",
              "\n",
              "// Listen for the clearing of the current output cell\n",
              "var outputEl = gd.closest('.output');\n",
              "if (outputEl) {{\n",
              "    x.observe(outputEl, {childList: true});\n",
              "}}\n",
              "\n",
              "                        })                };                            </script>        </div>\n",
              "</body>\n",
              "</html>"
            ]
          },
          "metadata": {}
        }
      ],
      "source": [
        "from plotly.subplots import make_subplots\n",
        "import plotly.graph_objects as go\n",
        "import plotly.io as pio\n",
        "layout = go.Layout(\n",
        "    autosize=False,\n",
        "    width=1800,\n",
        "    height=1800\n",
        ")\n",
        "\n",
        "fig = make_subplots(\n",
        "    rows=2, cols=1,\n",
        "    subplot_titles=(\"blockReward\", \"uncleInclusionReward\"))\n",
        "\n",
        "fig.add_trace(go.Scatter(x=df_rewards.blockNumber, y=df_rewards.blockReward),\n",
        "              row=1, col=1)\n",
        "\n",
        "fig.add_trace(go.Scatter(x=df_rewards.blockNumber, y=df_rewards.uncleInclusionReward),\n",
        "              row=2, col=1)\n",
        "\n",
        "\n",
        "\n",
        "fig.update_layout(height=900, width=900,\n",
        "                  title_text=\"Ethereum Blockchain Block Reward Data Visualization via Etherscan-python\")\n",
        "\n",
        "fig.show()"
      ]
    },
    {
      "cell_type": "code",
      "source": [
        "pio.write_image(fig, 'Etherscan_rewards.png')"
      ],
      "metadata": {
        "id": "RC3aaA7j_Y96"
      },
      "execution_count": 11,
      "outputs": []
    }
  ],
  "metadata": {
    "kernelspec": {
      "display_name": "base",
      "language": "python",
      "name": "python3"
    },
    "language_info": {
      "codemirror_mode": {
        "name": "ipython",
        "version": 3
      },
      "file_extension": ".py",
      "mimetype": "text/x-python",
      "name": "python",
      "nbconvert_exporter": "python",
      "pygments_lexer": "ipython3",
      "version": "3.9.12"
    },
    "orig_nbformat": 4,
    "vscode": {
      "interpreter": {
        "hash": "e6e7fe2fe964efffbb3c7f76849d58891afb99e85beffa87771e4e8ecf4769d2"
      }
    },
    "colab": {
      "provenance": []
    }
  },
  "nbformat": 4,
  "nbformat_minor": 0
}