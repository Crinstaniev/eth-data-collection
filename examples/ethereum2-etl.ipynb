{
 "cells": [
  {
   "attachments": {},
   "cell_type": "markdown",
   "metadata": {},
   "source": [
    "# `ethereum2-etl` code example"
   ]
  },
  {
   "cell_type": "code",
   "execution_count": 2,
   "metadata": {},
   "outputs": [
    {
     "name": "stdout",
     "output_type": "stream",
     "text": [
      "Requirement already satisfied: ethereum2-etl in /Users/crinstaniev/opt/anaconda3/lib/python3.9/site-packages (0.0.7)\n",
      "Collecting click==7.0\n",
      "  Using cached Click-7.0-py2.py3-none-any.whl (81 kB)\n",
      "Collecting requests==2.20.0\n",
      "  Using cached requests-2.20.0-py2.py3-none-any.whl (60 kB)\n",
      "Requirement already satisfied: blockchain-etl-common==1.4.0 in /Users/crinstaniev/opt/anaconda3/lib/python3.9/site-packages (from ethereum2-etl) (1.4.0)\n",
      "Collecting python-dateutil==2.7.0\n",
      "  Using cached python_dateutil-2.7.0-py2.py3-none-any.whl (207 kB)\n",
      "Requirement already satisfied: six>=1.5 in /Users/crinstaniev/opt/anaconda3/lib/python3.9/site-packages (from python-dateutil==2.7.0->ethereum2-etl) (1.16.0)\n",
      "Requirement already satisfied: idna<2.8,>=2.5 in /Users/crinstaniev/opt/anaconda3/lib/python3.9/site-packages (from requests==2.20.0->ethereum2-etl) (2.7)\n",
      "Requirement already satisfied: urllib3<1.25,>=1.21.1 in /Users/crinstaniev/opt/anaconda3/lib/python3.9/site-packages (from requests==2.20.0->ethereum2-etl) (1.24.3)\n",
      "Requirement already satisfied: chardet<3.1.0,>=3.0.2 in /Users/crinstaniev/opt/anaconda3/lib/python3.9/site-packages (from requests==2.20.0->ethereum2-etl) (3.0.4)\n",
      "Requirement already satisfied: certifi>=2017.4.17 in /Users/crinstaniev/opt/anaconda3/lib/python3.9/site-packages (from requests==2.20.0->ethereum2-etl) (2022.6.15)\n",
      "Installing collected packages: requests, python-dateutil, click\n",
      "  Attempting uninstall: requests\n",
      "    Found existing installation: requests 2.23.0\n",
      "    Uninstalling requests-2.23.0:\n",
      "      Successfully uninstalled requests-2.23.0\n",
      "  Attempting uninstall: python-dateutil\n",
      "    Found existing installation: python-dateutil 2.8.2\n",
      "    Uninstalling python-dateutil-2.8.2:\n",
      "      Successfully uninstalled python-dateutil-2.8.2\n",
      "  Attempting uninstall: click\n",
      "    Found existing installation: click 8.0.4\n",
      "    Uninstalling click-8.0.4:\n",
      "      Successfully uninstalled click-8.0.4\n",
      "\u001b[31mERROR: pip's dependency resolver does not currently take into account all the packages that are installed. This behaviour is the source of the following dependency conflicts.\n",
      "conda-repo-cli 1.0.4 requires pathlib, which is not installed.\n",
      "anaconda-project 0.10.2 requires ruamel-yaml, which is not installed.\n",
      "typer 0.4.2 requires click<9.0.0,>=7.1.1, but you have click 7.0 which is incompatible.\n",
      "tensorboard 2.11.0 requires requests<3,>=2.21.0, but you have requests 2.20.0 which is incompatible.\n",
      "panel 0.13.0 requires tqdm>=4.48.0, but you have tqdm 4.46.1 which is incompatible.\n",
      "pandas 1.4.2 requires python-dateutil>=2.8.1, but you have python-dateutil 2.7.0 which is incompatible.\n",
      "ghp-import 2.1.0 requires python-dateutil>=2.8.1, but you have python-dateutil 2.7.0 which is incompatible.\n",
      "ethereum-etl 2.1.2 requires click==8.0.4, but you have click 7.0 which is incompatible.\n",
      "ethereum-etl 2.1.2 requires python-dateutil<3,>=2.8.0, but you have python-dateutil 2.7.0 which is incompatible.\n",
      "cookiecutter 1.7.3 requires requests>=2.23.0, but you have requests 2.20.0 which is incompatible.\n",
      "conda 4.14.0 requires requests>=2.20.1, but you have requests 2.20.0 which is incompatible.\n",
      "botocore 1.24.32 requires urllib3<1.27,>=1.25.4, but you have urllib3 1.24.3 which is incompatible.\u001b[0m\u001b[31m\n",
      "\u001b[0mSuccessfully installed click-7.0 python-dateutil-2.7.0 requests-2.20.0\n"
     ]
    }
   ],
   "source": [
    "# setup environment\n",
    "!pip install ethereum2-etl"
   ]
  },
  {
   "cell_type": "code",
   "execution_count": 3,
   "metadata": {},
   "outputs": [
    {
     "name": "stdout",
     "output_type": "stream",
     "text": [
      "directory: /Users/crinstaniev/Dev/ethereum/eth-data-collection\n"
     ]
    }
   ],
   "source": [
    "import os\n",
    "\n",
    "# set directory to project root if not already there\n",
    "if os.getcwd().split('/')[-1] != 'eth-data-collection':\n",
    "    os.chdir('..')\n",
    "print(f'directory: {os.getcwd()}')"
   ]
  },
  {
   "cell_type": "code",
   "execution_count": null,
   "metadata": {},
   "outputs": [],
   "source": [
    "# download validator data\n",
    "!ethereum2etl export_beacon_validtors --epoch 10 \\\n",
    "--output-dir data --output-format json \\\n",
    "--provider-uri https://mainnet.infura.io/v3/7aef3f0cd1f64408b163814b22cc643c"
   ]
  }
 ],
 "metadata": {
  "kernelspec": {
   "display_name": "base",
   "language": "python",
   "name": "python3"
  },
  "language_info": {
   "codemirror_mode": {
    "name": "ipython",
    "version": 3
   },
   "file_extension": ".py",
   "mimetype": "text/x-python",
   "name": "python",
   "nbconvert_exporter": "python",
   "pygments_lexer": "ipython3",
   "version": "3.9.12"
  },
  "orig_nbformat": 4,
  "vscode": {
   "interpreter": {
    "hash": "e6e7fe2fe964efffbb3c7f76849d58891afb99e85beffa87771e4e8ecf4769d2"
   }
  }
 },
 "nbformat": 4,
 "nbformat_minor": 2
}
