{
 "cells": [
  {
   "attachments": {},
   "cell_type": "markdown",
   "metadata": {},
   "source": [
    "# Example Code Using `etherscan-python`"
   ]
  },
  {
   "cell_type": "code",
   "execution_count": 1,
   "metadata": {},
   "outputs": [
    {
     "name": "stdout",
     "output_type": "stream",
     "text": [
      "Collecting etherscan-python\n",
      "  Downloading etherscan_python-2.1.0-py3-none-any.whl (22 kB)\n",
      "Requirement already satisfied: requests in /Users/crinstaniev/opt/anaconda3/lib/python3.9/site-packages (from etherscan-python) (2.23.0)\n",
      "Requirement already satisfied: urllib3!=1.25.0,!=1.25.1,<1.26,>=1.21.1 in /Users/crinstaniev/opt/anaconda3/lib/python3.9/site-packages (from requests->etherscan-python) (1.24.3)\n",
      "Requirement already satisfied: chardet<4,>=3.0.2 in /Users/crinstaniev/opt/anaconda3/lib/python3.9/site-packages (from requests->etherscan-python) (3.0.4)\n",
      "Requirement already satisfied: certifi>=2017.4.17 in /Users/crinstaniev/opt/anaconda3/lib/python3.9/site-packages (from requests->etherscan-python) (2022.6.15)\n",
      "Requirement already satisfied: idna<3,>=2.5 in /Users/crinstaniev/opt/anaconda3/lib/python3.9/site-packages (from requests->etherscan-python) (2.7)\n",
      "Installing collected packages: etherscan-python\n",
      "Successfully installed etherscan-python-2.1.0\n"
     ]
    }
   ],
   "source": [
    "# setup\n",
    "!pip install etherscan-python"
   ]
  },
  {
   "cell_type": "code",
   "execution_count": 4,
   "metadata": {},
   "outputs": [],
   "source": [
    "from etherscan import Etherscan\n",
    "import pandas as pd\n",
    "import matplotlib.pyplot as plt\n",
    "from tqdm import tqdm\n",
    "%matplotlib inline\n"
   ]
  },
  {
   "cell_type": "code",
   "execution_count": 2,
   "metadata": {},
   "outputs": [],
   "source": [
    "eth = Etherscan(api_key='7WZIGUZZM4M3N32RCWQ8EUISBUQ8DX4Y5D')"
   ]
  },
  {
   "attachments": {},
   "cell_type": "markdown",
   "metadata": {},
   "source": [
    "Configuration for methods can be found in <https://github.com/pcko1/etherscan-python/tree/master/logs/standard>"
   ]
  },
  {
   "cell_type": "code",
   "execution_count": 5,
   "metadata": {},
   "outputs": [
    {
     "name": "stderr",
     "output_type": "stream",
     "text": [
      "100%|██████████| 100/100 [03:10<00:00,  1.90s/it]\n"
     ]
    }
   ],
   "source": [
    "# example of getting the block reward\n",
    "rewards = [eth.get_block_reward_by_block_number(\n",
    "    x) for x in tqdm(range(1000000, 1000100))]\n"
   ]
  },
  {
   "cell_type": "code",
   "execution_count": 6,
   "metadata": {},
   "outputs": [
    {
     "name": "stdout",
     "output_type": "stream",
     "text": [
      "<class 'pandas.core.frame.DataFrame'>\n",
      "RangeIndex: 100 entries, 0 to 99\n",
      "Data columns (total 6 columns):\n",
      " #   Column                Non-Null Count  Dtype \n",
      "---  ------                --------------  ----- \n",
      " 0   blockNumber           100 non-null    object\n",
      " 1   timeStamp             100 non-null    object\n",
      " 2   blockMiner            100 non-null    object\n",
      " 3   blockReward           100 non-null    object\n",
      " 4   uncles                100 non-null    object\n",
      " 5   uncleInclusionReward  100 non-null    object\n",
      "dtypes: object(6)\n",
      "memory usage: 4.8+ KB\n"
     ]
    }
   ],
   "source": [
    "# primary visualization\n",
    "df_blocks = pd.DataFrame(rewards)\n",
    "\n",
    "# convert numercial values\n",
    "df_blocks.info()"
   ]
  },
  {
   "cell_type": "code",
   "execution_count": 7,
   "metadata": {},
   "outputs": [],
   "source": [
    "df_blocks['blockNumber'] = df_blocks['blockNumber'].astype(int)\n",
    "df_blocks['blockReward'] = df_blocks['blockReward'].astype(float)\n"
   ]
  },
  {
   "cell_type": "code",
   "execution_count": 10,
   "metadata": {},
   "outputs": [
    {
     "data": {
      "text/plain": [
       "[<matplotlib.lines.Line2D at 0x7fe360282670>]"
      ]
     },
     "execution_count": 10,
     "metadata": {},
     "output_type": "execute_result"
    },
    {
     "data": {
      "image/png": "[encoded data removed]",
      "text/plain": [
       "<Figure size 432x288 with 1 Axes>"
      ]
     },
     "metadata": {
      "needs_background": "light"
     },
     "output_type": "display_data"
    }
   ],
   "source": [
    "plt.plot(df_blocks['blockNumber'], df_blocks['blockReward'])"
   ]
  },
  {
   "cell_type": "markdown",
   "metadata": {},
   "source": []
  }
 ],
 "metadata": {
  "kernelspec": {
   "display_name": "base",
   "language": "python",
   "name": "python3"
  },
  "language_info": {
   "codemirror_mode": {
    "name": "ipython",
    "version": 3
   },
   "file_extension": ".py",
   "mimetype": "text/x-python",
   "name": "python",
   "nbconvert_exporter": "python",
   "pygments_lexer": "ipython3",
   "version": "3.9.12 (main, Apr  5 2022, 01:53:17) \n[Clang 12.0.0 ]"
  },
  "orig_nbformat": 4,
  "vscode": {
   "interpreter": {
    "hash": "e6e7fe2fe964efffbb3c7f76849d58891afb99e85beffa87771e4e8ecf4769d2"
   }
  }
 },
 "nbformat": 4,
 "nbformat_minor": 2
}
