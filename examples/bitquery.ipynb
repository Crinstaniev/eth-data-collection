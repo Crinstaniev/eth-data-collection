{
 "cells": [
  {
   "attachments": {},
   "cell_type": "markdown",
   "metadata": {},
   "source": [
    "# `bitquery` code example"
   ]
  },
  {
   "attachments": {},
   "cell_type": "markdown",
   "metadata": {},
   "source": [
    "Related Resources:\n",
    "- <https://bitquery.io/blog/graphql-with-python-javascript-and-ruby#Getting_API_Key>\n",
    "- <https://bitquery.io/blog/eth2-api#Daily_Blocks_and_Proposers_count>"
   ]
  },
  {
   "cell_type": "code",
   "execution_count": 13,
   "metadata": {},
   "outputs": [],
   "source": [
    "import datetime\n",
    "\n",
    "import pandas as pd\n",
    "import plotly.graph_objects as go\n",
    "import requests\n",
    "from plotly.subplots import make_subplots"
   ]
  },
  {
   "cell_type": "code",
   "execution_count": 2,
   "metadata": {},
   "outputs": [],
   "source": [
    "def run_query(query): \n",
    "    headers = {'X-API-KEY': 'BQYy1WwTGPUPPeWYZeWDaQx5gghLlgEi'}\n",
    "    request = requests.post('https://graphql.bitquery.io/',\n",
    "                            json={'query': query}, headers=headers)\n",
    "    if request.status_code == 200:\n",
    "        return request.json()\n",
    "    else:\n",
    "        raise Exception('Query failed and return code is {}. {}'.format(request.status_code,query))"
   ]
  },
  {
   "cell_type": "code",
   "execution_count": 3,
   "metadata": {},
   "outputs": [],
   "source": [
    "query = \"\"\"\n",
    "{\n",
    "  ethereum2 {\n",
    "    deposits(options: {asc: \"date.date\"}) {\n",
    "      date: date {\n",
    "        date(format: \"%Y-%m-%d\")\n",
    "      }\n",
    "      count: count\n",
    "      amount\n",
    "    }\n",
    "  }\n",
    "}\n",
    "\"\"\""
   ]
  },
  {
   "cell_type": "code",
   "execution_count": 4,
   "metadata": {},
   "outputs": [],
   "source": [
    "result = run_query(query=query)"
   ]
  },
  {
   "cell_type": "code",
   "execution_count": 5,
   "metadata": {},
   "outputs": [],
   "source": [
    "deposit_history = result.get('data').get('ethereum2').get('deposits')"
   ]
  },
  {
   "cell_type": "code",
   "execution_count": 11,
   "metadata": {},
   "outputs": [
    {
     "name": "stdout",
     "output_type": "stream",
     "text": [
      "<class 'pandas.core.frame.DataFrame'>\n",
      "RangeIndex: 775 entries, 0 to 774\n",
      "Data columns (total 4 columns):\n",
      " #   Column         Non-Null Count  Dtype         \n",
      "---  ------         --------------  -----         \n",
      " 0   date           775 non-null    datetime64[ns]\n",
      " 1   count          775 non-null    int64         \n",
      " 2   amount         775 non-null    float64       \n",
      " 3   cumsum_amount  775 non-null    float64       \n",
      "dtypes: datetime64[ns](1), float64(2), int64(1)\n",
      "memory usage: 24.3 KB\n",
      "None\n"
     ]
    },
    {
     "data": {
      "text/html": [
       "<div>\n",
       "<style scoped>\n",
       "    .dataframe tbody tr th:only-of-type {\n",
       "        vertical-align: middle;\n",
       "    }\n",
       "\n",
       "    .dataframe tbody tr th {\n",
       "        vertical-align: top;\n",
       "    }\n",
       "\n",
       "    .dataframe thead th {\n",
       "        text-align: right;\n",
       "    }\n",
       "</style>\n",
       "<table border=\"1\" class=\"dataframe\">\n",
       "  <thead>\n",
       "    <tr style=\"text-align: right;\">\n",
       "      <th></th>\n",
       "      <th>date</th>\n",
       "      <th>count</th>\n",
       "      <th>amount</th>\n",
       "      <th>cumsum_amount</th>\n",
       "    </tr>\n",
       "  </thead>\n",
       "  <tbody>\n",
       "    <tr>\n",
       "      <th>0</th>\n",
       "      <td>2020-12-01</td>\n",
       "      <td>6451</td>\n",
       "      <td>206401.0</td>\n",
       "      <td>206401.0</td>\n",
       "    </tr>\n",
       "    <tr>\n",
       "      <th>1</th>\n",
       "      <td>2020-12-02</td>\n",
       "      <td>1644</td>\n",
       "      <td>52577.0</td>\n",
       "      <td>258978.0</td>\n",
       "    </tr>\n",
       "    <tr>\n",
       "      <th>2</th>\n",
       "      <td>2020-12-03</td>\n",
       "      <td>1557</td>\n",
       "      <td>49824.0</td>\n",
       "      <td>308802.0</td>\n",
       "    </tr>\n",
       "    <tr>\n",
       "      <th>3</th>\n",
       "      <td>2020-12-04</td>\n",
       "      <td>547</td>\n",
       "      <td>17504.0</td>\n",
       "      <td>326306.0</td>\n",
       "    </tr>\n",
       "    <tr>\n",
       "      <th>4</th>\n",
       "      <td>2020-12-05</td>\n",
       "      <td>2574</td>\n",
       "      <td>82276.0</td>\n",
       "      <td>408582.0</td>\n",
       "    </tr>\n",
       "    <tr>\n",
       "      <th>...</th>\n",
       "      <td>...</td>\n",
       "      <td>...</td>\n",
       "      <td>...</td>\n",
       "      <td>...</td>\n",
       "    </tr>\n",
       "    <tr>\n",
       "      <th>770</th>\n",
       "      <td>2023-01-10</td>\n",
       "      <td>336</td>\n",
       "      <td>10128.0</td>\n",
       "      <td>15282983.0</td>\n",
       "    </tr>\n",
       "    <tr>\n",
       "      <th>771</th>\n",
       "      <td>2023-01-11</td>\n",
       "      <td>444</td>\n",
       "      <td>13440.0</td>\n",
       "      <td>15296423.0</td>\n",
       "    </tr>\n",
       "    <tr>\n",
       "      <th>772</th>\n",
       "      <td>2023-01-12</td>\n",
       "      <td>1025</td>\n",
       "      <td>31552.0</td>\n",
       "      <td>15327975.0</td>\n",
       "    </tr>\n",
       "    <tr>\n",
       "      <th>773</th>\n",
       "      <td>2023-01-13</td>\n",
       "      <td>225</td>\n",
       "      <td>6464.0</td>\n",
       "      <td>15334439.0</td>\n",
       "    </tr>\n",
       "    <tr>\n",
       "      <th>774</th>\n",
       "      <td>2023-01-14</td>\n",
       "      <td>333</td>\n",
       "      <td>10384.0</td>\n",
       "      <td>15344823.0</td>\n",
       "    </tr>\n",
       "  </tbody>\n",
       "</table>\n",
       "<p>775 rows × 4 columns</p>\n",
       "</div>"
      ],
      "text/plain": [
       "          date  count    amount  cumsum_amount\n",
       "0   2020-12-01   6451  206401.0       206401.0\n",
       "1   2020-12-02   1644   52577.0       258978.0\n",
       "2   2020-12-03   1557   49824.0       308802.0\n",
       "3   2020-12-04    547   17504.0       326306.0\n",
       "4   2020-12-05   2574   82276.0       408582.0\n",
       "..         ...    ...       ...            ...\n",
       "770 2023-01-10    336   10128.0     15282983.0\n",
       "771 2023-01-11    444   13440.0     15296423.0\n",
       "772 2023-01-12   1025   31552.0     15327975.0\n",
       "773 2023-01-13    225    6464.0     15334439.0\n",
       "774 2023-01-14    333   10384.0     15344823.0\n",
       "\n",
       "[775 rows x 4 columns]"
      ]
     },
     "metadata": {},
     "output_type": "display_data"
    }
   ],
   "source": [
    "deposit_history_flatten = []\n",
    "\n",
    "for item in deposit_history:\n",
    "    date = item.get('date').get('date')\n",
    "    count = item.get('count')\n",
    "    amount = item.get('amount')\n",
    "\n",
    "    deposit_history_flatten.append(\n",
    "        dict(\n",
    "            date=date,\n",
    "            count=count,\n",
    "            amount=amount\n",
    "        )\n",
    "    )\n",
    "\n",
    "deposit_history_df = pd.DataFrame(deposit_history_flatten)\n",
    "deposit_history_df['date'] = deposit_history_df['date'].astype('datetime64[D]')\n",
    "\n",
    "# aggregate\n",
    "deposit_history_df['cumsum_amount'] = deposit_history_df['amount'].cumsum()\n",
    "\n",
    "print(deposit_history_df.info())\n",
    "display(deposit_history_df)\n"
   ]
  },
  {
   "cell_type": "code",
   "execution_count": 14,
   "metadata": {},
   "outputs": [
    {
     "name": "stderr",
     "output_type": "stream",
     "text": [
      "/Users/crinstaniev/opt/anaconda3/lib/python3.9/site-packages/plotly/graph_objs/_deprecations.py:378: DeprecationWarning:\n",
      "\n",
      "plotly.graph_objs.Line is deprecated.\n",
      "Please replace it with one of the following more specific types\n",
      "  - plotly.graph_objs.scatter.Line\n",
      "  - plotly.graph_objs.layout.shape.Line\n",
      "  - etc.\n",
      "\n",
      "\n"
     ]
    },
    {
     "ename": "NameError",
     "evalue": "name 'datetime' is not defined",
     "output_type": "error",
     "traceback": [
      "\u001b[0;31m---------------------------------------------------------------------------\u001b[0m",
      "\u001b[0;31mNameError\u001b[0m                                 Traceback (most recent call last)",
      "\u001b[1;32m/Users/crinstaniev/Dev/ethereum/eth-data-collection/examples/bitquery.ipynb Cell 9\u001b[0m in \u001b[0;36m<cell line: 22>\u001b[0;34m()\u001b[0m\n\u001b[1;32m      <a href='vscode-notebook-cell:/Users/crinstaniev/Dev/ethereum/eth-data-collection/examples/bitquery.ipynb#X12sZmlsZQ%3D%3D?line=3'>4</a>\u001b[0m fig\u001b[39m.\u001b[39madd_trace(\n\u001b[1;32m      <a href='vscode-notebook-cell:/Users/crinstaniev/Dev/ethereum/eth-data-collection/examples/bitquery.ipynb#X12sZmlsZQ%3D%3D?line=4'>5</a>\u001b[0m     go\u001b[39m.\u001b[39mLine(\n\u001b[1;32m      <a href='vscode-notebook-cell:/Users/crinstaniev/Dev/ethereum/eth-data-collection/examples/bitquery.ipynb#X12sZmlsZQ%3D%3D?line=5'>6</a>\u001b[0m         x\u001b[39m=\u001b[39mdeposit_history_df[\u001b[39m'\u001b[39m\u001b[39mdate\u001b[39m\u001b[39m'\u001b[39m],\n\u001b[0;32m   (...)\u001b[0m\n\u001b[1;32m     <a href='vscode-notebook-cell:/Users/crinstaniev/Dev/ethereum/eth-data-collection/examples/bitquery.ipynb#X12sZmlsZQ%3D%3D?line=9'>10</a>\u001b[0m     row\u001b[39m=\u001b[39m\u001b[39m2\u001b[39m, col\u001b[39m=\u001b[39m\u001b[39m1\u001b[39m\n\u001b[1;32m     <a href='vscode-notebook-cell:/Users/crinstaniev/Dev/ethereum/eth-data-collection/examples/bitquery.ipynb#X12sZmlsZQ%3D%3D?line=10'>11</a>\u001b[0m )\n\u001b[1;32m     <a href='vscode-notebook-cell:/Users/crinstaniev/Dev/ethereum/eth-data-collection/examples/bitquery.ipynb#X12sZmlsZQ%3D%3D?line=12'>13</a>\u001b[0m fig\u001b[39m.\u001b[39madd_trace(\n\u001b[1;32m     <a href='vscode-notebook-cell:/Users/crinstaniev/Dev/ethereum/eth-data-collection/examples/bitquery.ipynb#X12sZmlsZQ%3D%3D?line=13'>14</a>\u001b[0m     go\u001b[39m.\u001b[39mLine(\n\u001b[1;32m     <a href='vscode-notebook-cell:/Users/crinstaniev/Dev/ethereum/eth-data-collection/examples/bitquery.ipynb#X12sZmlsZQ%3D%3D?line=14'>15</a>\u001b[0m         x\u001b[39m=\u001b[39mdeposit_history_df[\u001b[39m'\u001b[39m\u001b[39mdate\u001b[39m\u001b[39m'\u001b[39m],\n\u001b[0;32m   (...)\u001b[0m\n\u001b[1;32m     <a href='vscode-notebook-cell:/Users/crinstaniev/Dev/ethereum/eth-data-collection/examples/bitquery.ipynb#X12sZmlsZQ%3D%3D?line=18'>19</a>\u001b[0m     row\u001b[39m=\u001b[39m\u001b[39m1\u001b[39m, col\u001b[39m=\u001b[39m\u001b[39m1\u001b[39m\n\u001b[1;32m     <a href='vscode-notebook-cell:/Users/crinstaniev/Dev/ethereum/eth-data-collection/examples/bitquery.ipynb#X12sZmlsZQ%3D%3D?line=19'>20</a>\u001b[0m )\n\u001b[1;32m     <a href='vscode-notebook-cell:/Users/crinstaniev/Dev/ethereum/eth-data-collection/examples/bitquery.ipynb#X12sZmlsZQ%3D%3D?line=21'>22</a>\u001b[0m fig\u001b[39m.\u001b[39madd_vline(\n\u001b[0;32m---> <a href='vscode-notebook-cell:/Users/crinstaniev/Dev/ethereum/eth-data-collection/examples/bitquery.ipynb#X12sZmlsZQ%3D%3D?line=22'>23</a>\u001b[0m     x\u001b[39m=\u001b[39mdatetime\u001b[39m.\u001b[39mdatetime\u001b[39m.\u001b[39mstrptime(\u001b[39m\"\u001b[39m\u001b[39m2022-09-15\u001b[39m\u001b[39m\"\u001b[39m, \u001b[39m\"\u001b[39m\u001b[39m%\u001b[39m\u001b[39mY-\u001b[39m\u001b[39m%\u001b[39m\u001b[39mm-\u001b[39m\u001b[39m%d\u001b[39;00m\u001b[39m\"\u001b[39m)\u001b[39m.\u001b[39mtimestamp() \u001b[39m*\u001b[39m \u001b[39m1000\u001b[39m,\n\u001b[1;32m     <a href='vscode-notebook-cell:/Users/crinstaniev/Dev/ethereum/eth-data-collection/examples/bitquery.ipynb#X12sZmlsZQ%3D%3D?line=23'>24</a>\u001b[0m     line_dash\u001b[39m=\u001b[39m\u001b[39m'\u001b[39m\u001b[39mdot\u001b[39m\u001b[39m'\u001b[39m,\n\u001b[1;32m     <a href='vscode-notebook-cell:/Users/crinstaniev/Dev/ethereum/eth-data-collection/examples/bitquery.ipynb#X12sZmlsZQ%3D%3D?line=24'>25</a>\u001b[0m     annotation_position\u001b[39m=\u001b[39m\u001b[39m\"\u001b[39m\u001b[39mright\u001b[39m\u001b[39m\"\u001b[39m,\n\u001b[1;32m     <a href='vscode-notebook-cell:/Users/crinstaniev/Dev/ethereum/eth-data-collection/examples/bitquery.ipynb#X12sZmlsZQ%3D%3D?line=25'>26</a>\u001b[0m     annotation_text\u001b[39m=\u001b[39m\u001b[39m\"\u001b[39m\u001b[39mThe Merge: Sep 15, 2022\u001b[39m\u001b[39m\"\u001b[39m\n\u001b[1;32m     <a href='vscode-notebook-cell:/Users/crinstaniev/Dev/ethereum/eth-data-collection/examples/bitquery.ipynb#X12sZmlsZQ%3D%3D?line=26'>27</a>\u001b[0m )\n\u001b[1;32m     <a href='vscode-notebook-cell:/Users/crinstaniev/Dev/ethereum/eth-data-collection/examples/bitquery.ipynb#X12sZmlsZQ%3D%3D?line=28'>29</a>\u001b[0m fig\u001b[39m.\u001b[39mupdate_layout(\u001b[39mdict\u001b[39m(template\u001b[39m=\u001b[39m\u001b[39m'\u001b[39m\u001b[39mplotly_dark\u001b[39m\u001b[39m'\u001b[39m,\n\u001b[1;32m     <a href='vscode-notebook-cell:/Users/crinstaniev/Dev/ethereum/eth-data-collection/examples/bitquery.ipynb#X12sZmlsZQ%3D%3D?line=29'>30</a>\u001b[0m                   title\u001b[39m=\u001b[39m\u001b[39m'\u001b[39m\u001b[39mStaked Ether Time Series\u001b[39m\u001b[39m'\u001b[39m, width\u001b[39m=\u001b[39m\u001b[39m800\u001b[39m, height\u001b[39m=\u001b[39m\u001b[39m600\u001b[39m))\n\u001b[1;32m     <a href='vscode-notebook-cell:/Users/crinstaniev/Dev/ethereum/eth-data-collection/examples/bitquery.ipynb#X12sZmlsZQ%3D%3D?line=31'>32</a>\u001b[0m fig\u001b[39m.\u001b[39mshow()\n",
      "\u001b[0;31mNameError\u001b[0m: name 'datetime' is not defined"
     ]
    }
   ],
   "source": [
    "# some primary visualization\n",
    "fig = make_subplots(rows=2, cols=1, shared_xaxes=True, vertical_spacing=0.05)\n",
    "\n",
    "fig.add_trace(\n",
    "    go.Line(\n",
    "        x=deposit_history_df['date'],\n",
    "        y=deposit_history_df['amount'],\n",
    "        name='Deposit Amount'\n",
    "    ),\n",
    "    row=2, col=1\n",
    ")\n",
    "\n",
    "fig.add_trace(\n",
    "    go.Line(\n",
    "        x=deposit_history_df['date'],\n",
    "        y=deposit_history_df['cumsum_amount'],\n",
    "        name='Total Amount'\n",
    "    ),\n",
    "    row=1, col=1\n",
    ")\n",
    "\n",
    "fig.add_vline(\n",
    "    x=datetime.datetime.strptime(\"2022-09-15\", \"%Y-%m-%d\").timestamp() * 1000,\n",
    "    line_dash='dot',\n",
    "    annotation_position=\"right\",\n",
    "    annotation_text=\"The Merge: Sep 15, 2022\"\n",
    ")\n",
    "\n",
    "fig.update_layout(dict(template='plotly_dark',\n",
    "                  title='Staked Ether Time Series', width=800, height=600))\n",
    "\n",
    "fig.show()\n"
   ]
  },
  {
   "cell_type": "code",
   "execution_count": null,
   "metadata": {},
   "outputs": [],
   "source": []
  }
 ],
 "metadata": {
  "kernelspec": {
   "display_name": "base",
   "language": "python",
   "name": "python3"
  },
  "language_info": {
   "codemirror_mode": {
    "name": "ipython",
    "version": 3
   },
   "file_extension": ".py",
   "mimetype": "text/x-python",
   "name": "python",
   "nbconvert_exporter": "python",
   "pygments_lexer": "ipython3",
   "version": "3.9.12"
  },
  "orig_nbformat": 4,
  "vscode": {
   "interpreter": {
    "hash": "e6e7fe2fe964efffbb3c7f76849d58891afb99e85beffa87771e4e8ecf4769d2"
   }
  }
 },
 "nbformat": 4,
 "nbformat_minor": 2
}
